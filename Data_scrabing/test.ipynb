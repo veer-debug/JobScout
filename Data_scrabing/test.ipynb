{
 "cells": [
  {
   "cell_type": "code",
   "execution_count": 2,
   "metadata": {},
   "outputs": [],
   "source": [
    "import pandas as pd"
   ]
  },
  {
   "cell_type": "code",
   "execution_count": 3,
   "metadata": {},
   "outputs": [],
   "source": [
    "df=pd.read_excel('Carears_pages.xlsx')"
   ]
  },
  {
   "cell_type": "code",
   "execution_count": 6,
   "metadata": {},
   "outputs": [
    {
     "data": {
      "text/plain": [
       "'https://www.orientindia.in/all-openings'"
      ]
     },
     "execution_count": 6,
     "metadata": {},
     "output_type": "execute_result"
    }
   ],
   "source": [
    "df.CareersLink.values[1]"
   ]
  },
  {
   "cell_type": "code",
   "execution_count": 5,
   "metadata": {},
   "outputs": [
    {
     "name": "stdout",
     "output_type": "stream",
     "text": [
      "orient technologies\n",
      "<class 'float'>\n",
      "['job-card-wrapper', nan]\n",
      "[['h1', 'title'], ['div', 'text-block-23'], ['a', 'link-block-17'], 'orient technologies']\n"
     ]
    }
   ],
   "source": [
    "df.rename(columns={'If Dynamic_xpath': 'next'}, inplace=True)\n",
    "for ind,row in df.iterrows():\n",
    "    if ind==1:\n",
    "        print(row['Name'])\n",
    "        url=row['CareersLink']\n",
    "        print(type(row['next']))\n",
    "        out_div=[row['Outer_div'],row['next']]\n",
    "        print(out_div)\n",
    "        divs=[[row['Name_div_tag'],row['Name_div']],[row['Location_div_tag'],row['Location_div']],[row['Url_div_tag'],row['Url_div']],row['Name']]\n",
    "        print(divs)"
   ]
  },
  {
   "cell_type": "code",
   "execution_count": 16,
   "metadata": {},
   "outputs": [
    {
     "data": {
      "text/plain": [
       "'a'"
      ]
     },
     "execution_count": 16,
     "metadata": {},
     "output_type": "execute_result"
    }
   ],
   "source": [
    "divs[0][0]"
   ]
  },
  {
   "cell_type": "code",
   "execution_count": 8,
   "metadata": {},
   "outputs": [],
   "source": [
    "df.rename(columns={'If Dynamic_xpath': 'next'}, inplace=True)\n"
   ]
  },
  {
   "cell_type": "code",
   "execution_count": 9,
   "metadata": {},
   "outputs": [
    {
     "data": {
      "text/html": [
       "<div>\n",
       "<style scoped>\n",
       "    .dataframe tbody tr th:only-of-type {\n",
       "        vertical-align: middle;\n",
       "    }\n",
       "\n",
       "    .dataframe tbody tr th {\n",
       "        vertical-align: top;\n",
       "    }\n",
       "\n",
       "    .dataframe thead th {\n",
       "        text-align: right;\n",
       "    }\n",
       "</style>\n",
       "<table border=\"1\" class=\"dataframe\">\n",
       "  <thead>\n",
       "    <tr style=\"text-align: right;\">\n",
       "      <th></th>\n",
       "      <th>Name</th>\n",
       "      <th>CareersLink</th>\n",
       "      <th>Outer_div</th>\n",
       "      <th>Outer_div_tag</th>\n",
       "      <th>Name_div</th>\n",
       "      <th>Name_div_tag</th>\n",
       "      <th>Location_div</th>\n",
       "      <th>Location_div_tag</th>\n",
       "      <th>Url_div</th>\n",
       "      <th>Url_div_tag</th>\n",
       "      <th>Page_Type</th>\n",
       "      <th>next</th>\n",
       "    </tr>\n",
       "  </thead>\n",
       "  <tbody>\n",
       "    <tr>\n",
       "      <th>0</th>\n",
       "      <td>orient technologies</td>\n",
       "      <td>https://www.orientindia.in/all-openings</td>\n",
       "      <td>job-card-wrapper</td>\n",
       "      <td>div</td>\n",
       "      <td>title</td>\n",
       "      <td>h1</td>\n",
       "      <td>text-block-23</td>\n",
       "      <td>div</td>\n",
       "      <td>link-block-17</td>\n",
       "      <td>a</td>\n",
       "      <td>NaN</td>\n",
       "      <td>NaN</td>\n",
       "    </tr>\n",
       "    <tr>\n",
       "      <th>1</th>\n",
       "      <td>Infosys</td>\n",
       "      <td>https://career.infosys.com/joblist?countrycode...</td>\n",
       "      <td>customCard</td>\n",
       "      <td>div</td>\n",
       "      <td>mat-tooltip-trigger</td>\n",
       "      <td>span</td>\n",
       "      <td>secondaryText</td>\n",
       "      <td>span</td>\n",
       "      <td>https://career.infosys.com/joblist?countrycode...</td>\n",
       "      <td>0</td>\n",
       "      <td>NaN</td>\n",
       "      <td>pointer</td>\n",
       "    </tr>\n",
       "  </tbody>\n",
       "</table>\n",
       "</div>"
      ],
      "text/plain": [
       "                  Name                                        CareersLink  \\\n",
       "0  orient technologies            https://www.orientindia.in/all-openings   \n",
       "1              Infosys  https://career.infosys.com/joblist?countrycode...   \n",
       "\n",
       "          Outer_div Outer_div_tag             Name_div Name_div_tag  \\\n",
       "0  job-card-wrapper           div                title           h1   \n",
       "1       customCard            div  mat-tooltip-trigger         span   \n",
       "\n",
       "    Location_div Location_div_tag  \\\n",
       "0  text-block-23              div   \n",
       "1  secondaryText             span   \n",
       "\n",
       "                                             Url_div Url_div_tag Page_Type  \\\n",
       "0                                      link-block-17           a       NaN   \n",
       "1  https://career.infosys.com/joblist?countrycode...           0       NaN   \n",
       "\n",
       "      next  \n",
       "0      NaN  \n",
       "1  pointer  "
      ]
     },
     "execution_count": 9,
     "metadata": {},
     "output_type": "execute_result"
    }
   ],
   "source": [
    "df.head(2)"
   ]
  },
  {
   "cell_type": "code",
   "execution_count": null,
   "metadata": {},
   "outputs": [],
   "source": [
    "out_div=[[row['Outer_div'],row['Outer_div_tag']],row['If Dynamic_xpa']]\n",
    "divs=[[row['Name_div_tag'],roe['Name_div']],[row['Location_div_tag'],roe['Location_div']],[roe['Url_div_tag'],row['Url_div']],row['Name']]"
   ]
  },
  {
   "cell_type": "code",
   "execution_count": 7,
   "metadata": {},
   "outputs": [],
   "source": [
    "import pandas as pd\n",
    "# from scrab import WebScraper\n",
    "import os\n",
    "\n",
    "df=pd.read_excel('./companies.xlsx')\n",
    "\n",
    "\n",
    "\n",
    "\n"
   ]
  },
  {
   "cell_type": "code",
   "execution_count": 10,
   "metadata": {},
   "outputs": [
    {
     "data": {
      "text/html": [
       "<div>\n",
       "<style scoped>\n",
       "    .dataframe tbody tr th:only-of-type {\n",
       "        vertical-align: middle;\n",
       "    }\n",
       "\n",
       "    .dataframe tbody tr th {\n",
       "        vertical-align: top;\n",
       "    }\n",
       "\n",
       "    .dataframe thead th {\n",
       "        text-align: right;\n",
       "    }\n",
       "</style>\n",
       "<table border=\"1\" class=\"dataframe\">\n",
       "  <thead>\n",
       "    <tr style=\"text-align: right;\">\n",
       "      <th></th>\n",
       "      <th>Name</th>\n",
       "      <th>CareersLink</th>\n",
       "      <th>Outer_div</th>\n",
       "      <th>Outer_div_tag</th>\n",
       "      <th>Name_div</th>\n",
       "      <th>Name_div_tag</th>\n",
       "      <th>Location_div</th>\n",
       "      <th>Location_div_tag</th>\n",
       "      <th>Url_div</th>\n",
       "      <th>Url_div_tag</th>\n",
       "      <th>Page_Type</th>\n",
       "      <th>If Dynamic_xpath</th>\n",
       "    </tr>\n",
       "  </thead>\n",
       "  <tbody>\n",
       "    <tr>\n",
       "      <th>0</th>\n",
       "      <td>Google</td>\n",
       "      <td>https://www.google.com/about/careers/applicati...</td>\n",
       "      <td>sMn82b</td>\n",
       "      <td>div</td>\n",
       "      <td>QJPWVe</td>\n",
       "      <td>h3</td>\n",
       "      <td>r0wTof</td>\n",
       "      <td>span</td>\n",
       "      <td>WpHeLc</td>\n",
       "      <td>a</td>\n",
       "      <td>Dynamic</td>\n",
       "      <td>/html/body/c-wiz[1]/div/div[2]/div/div/div[2]/...</td>\n",
       "    </tr>\n",
       "  </tbody>\n",
       "</table>\n",
       "</div>"
      ],
      "text/plain": [
       "     Name                                        CareersLink Outer_div  \\\n",
       "0  Google  https://www.google.com/about/careers/applicati...    sMn82b   \n",
       "\n",
       "  Outer_div_tag Name_div Name_div_tag Location_div Location_div_tag Url_div  \\\n",
       "0           div   QJPWVe           h3       r0wTof             span  WpHeLc   \n",
       "\n",
       "  Url_div_tag Page_Type                                   If Dynamic_xpath  \n",
       "0           a   Dynamic  /html/body/c-wiz[1]/div/div[2]/div/div/div[2]/...  "
      ]
     },
     "execution_count": 10,
     "metadata": {},
     "output_type": "execute_result"
    }
   ],
   "source": [
    "df.head()"
   ]
  },
  {
   "cell_type": "code",
   "execution_count": 11,
   "metadata": {},
   "outputs": [
    {
     "name": "stdout",
     "output_type": "stream",
     "text": [
      "0 Google\n"
     ]
    }
   ],
   "source": [
    "\n",
    "for row in df.itertuples():\n",
    "    print(row.Index, row.Name)"
   ]
  },
  {
   "cell_type": "code",
   "execution_count": 5,
   "metadata": {},
   "outputs": [
    {
     "name": "stdout",
     "output_type": "stream",
     "text": [
      "Index: 0\n",
      "Name: Alice, Age: 24, City: New York\n",
      "----\n",
      "Index: 1\n",
      "Name: Bob, Age: 27, City: Los Angeles\n",
      "----\n",
      "Index: 2\n",
      "Name: Charlie, Age: 22, City: Chicago\n",
      "----\n"
     ]
    }
   ],
   "source": [
    "import pandas as pd\n",
    "\n",
    "# Example DataFrame\n",
    "df = pd.DataFrame({\n",
    "    'Name': ['Alice', 'Bob', 'Charlie'],\n",
    "    'Age': [24, 27, 22],\n",
    "    'City': ['New York', 'Los Angeles', 'Chicago']\n",
    "})\n",
    "\n",
    "# Row-wise traversal using iterrows()\n",
    "for index, row in df.iterrows():\n",
    "    print(f\"Index: {index}\")\n",
    "    print(f\"Name: {row['Name']}, Age: {row['Age']}, City: {row['City']}\")\n",
    "    print(\"----\")\n"
   ]
  },
  {
   "cell_type": "code",
   "execution_count": 5,
   "metadata": {},
   "outputs": [],
   "source": [
    "l=[1,2,3,4]\n",
    "l.extend([12])"
   ]
  },
  {
   "cell_type": "code",
   "execution_count": 6,
   "metadata": {},
   "outputs": [
    {
     "data": {
      "text/plain": [
       "[1, 2, 3, 4, 12]"
      ]
     },
     "execution_count": 6,
     "metadata": {},
     "output_type": "execute_result"
    }
   ],
   "source": [
    "l"
   ]
  },
  {
   "cell_type": "code",
   "execution_count": null,
   "metadata": {},
   "outputs": [],
   "source": []
  },
  {
   "cell_type": "code",
   "execution_count": null,
   "metadata": {},
   "outputs": [],
   "source": []
  },
  {
   "cell_type": "code",
   "execution_count": null,
   "metadata": {},
   "outputs": [],
   "source": []
  }
 ],
 "metadata": {
  "kernelspec": {
   "display_name": "dataenv",
   "language": "python",
   "name": "python3"
  },
  "language_info": {
   "codemirror_mode": {
    "name": "ipython",
    "version": 3
   },
   "file_extension": ".py",
   "mimetype": "text/x-python",
   "name": "python",
   "nbconvert_exporter": "python",
   "pygments_lexer": "ipython3",
   "version": "3.12.4"
  }
 },
 "nbformat": 4,
 "nbformat_minor": 2
}
