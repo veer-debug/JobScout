{
 "cells": [
  {
   "cell_type": "code",
   "execution_count": 1,
   "metadata": {},
   "outputs": [],
   "source": [
    "import pandas as pd"
   ]
  },
  {
   "cell_type": "code",
   "execution_count": 2,
   "metadata": {},
   "outputs": [],
   "source": [
    "df=pd.read_excel('final_input.xlsx')"
   ]
  },
  {
   "cell_type": "code",
   "execution_count": 8,
   "metadata": {},
   "outputs": [
    {
     "data": {
      "text/plain": [
       "'https://jobs.lever.co/paytm'"
      ]
     },
     "execution_count": 8,
     "metadata": {},
     "output_type": "execute_result"
    }
   ],
   "source": [
    "df.CareersLink.values[0]"
   ]
  },
  {
   "cell_type": "code",
   "execution_count": 9,
   "metadata": {},
   "outputs": [
    {
     "name": "stdout",
     "output_type": "stream",
     "text": [
      "Paytm\n",
      "<class 'float'>\n",
      "['posting', nan]\n"
     ]
    },
    {
     "ename": "KeyError",
     "evalue": "'Name_div_tag'",
     "output_type": "error",
     "traceback": [
      "\u001b[1;31m---------------------------------------------------------------------------\u001b[0m",
      "\u001b[1;31mKeyError\u001b[0m                                  Traceback (most recent call last)",
      "File \u001b[1;32mc:\\Users\\theve\\OneDrive\\Desktop\\Running_Projects\\JobScout\\Data_scrabing\\dataenv\\Lib\\site-packages\\pandas\\core\\indexes\\base.py:3805\u001b[0m, in \u001b[0;36mIndex.get_loc\u001b[1;34m(self, key)\u001b[0m\n\u001b[0;32m   3804\u001b[0m \u001b[38;5;28;01mtry\u001b[39;00m:\n\u001b[1;32m-> 3805\u001b[0m     \u001b[38;5;28;01mreturn\u001b[39;00m \u001b[38;5;28;43mself\u001b[39;49m\u001b[38;5;241;43m.\u001b[39;49m\u001b[43m_engine\u001b[49m\u001b[38;5;241;43m.\u001b[39;49m\u001b[43mget_loc\u001b[49m\u001b[43m(\u001b[49m\u001b[43mcasted_key\u001b[49m\u001b[43m)\u001b[49m\n\u001b[0;32m   3806\u001b[0m \u001b[38;5;28;01mexcept\u001b[39;00m \u001b[38;5;167;01mKeyError\u001b[39;00m \u001b[38;5;28;01mas\u001b[39;00m err:\n",
      "File \u001b[1;32mindex.pyx:167\u001b[0m, in \u001b[0;36mpandas._libs.index.IndexEngine.get_loc\u001b[1;34m()\u001b[0m\n",
      "File \u001b[1;32mindex.pyx:196\u001b[0m, in \u001b[0;36mpandas._libs.index.IndexEngine.get_loc\u001b[1;34m()\u001b[0m\n",
      "File \u001b[1;32mpandas\\\\_libs\\\\hashtable_class_helper.pxi:7081\u001b[0m, in \u001b[0;36mpandas._libs.hashtable.PyObjectHashTable.get_item\u001b[1;34m()\u001b[0m\n",
      "File \u001b[1;32mpandas\\\\_libs\\\\hashtable_class_helper.pxi:7089\u001b[0m, in \u001b[0;36mpandas._libs.hashtable.PyObjectHashTable.get_item\u001b[1;34m()\u001b[0m\n",
      "\u001b[1;31mKeyError\u001b[0m: 'Name_div_tag'",
      "\nThe above exception was the direct cause of the following exception:\n",
      "\u001b[1;31mKeyError\u001b[0m                                  Traceback (most recent call last)",
      "Cell \u001b[1;32mIn[9], line 9\u001b[0m\n\u001b[0;32m      7\u001b[0m out_div\u001b[38;5;241m=\u001b[39m[row[\u001b[38;5;124m'\u001b[39m\u001b[38;5;124mOuter_div\u001b[39m\u001b[38;5;124m'\u001b[39m],row[\u001b[38;5;124m'\u001b[39m\u001b[38;5;124mnext\u001b[39m\u001b[38;5;124m'\u001b[39m]]\n\u001b[0;32m      8\u001b[0m \u001b[38;5;28mprint\u001b[39m(out_div)\n\u001b[1;32m----> 9\u001b[0m divs\u001b[38;5;241m=\u001b[39m[[\u001b[43mrow\u001b[49m\u001b[43m[\u001b[49m\u001b[38;5;124;43m'\u001b[39;49m\u001b[38;5;124;43mName_div_tag\u001b[39;49m\u001b[38;5;124;43m'\u001b[39;49m\u001b[43m]\u001b[49m,row[\u001b[38;5;124m'\u001b[39m\u001b[38;5;124mName_div\u001b[39m\u001b[38;5;124m'\u001b[39m]],[row[\u001b[38;5;124m'\u001b[39m\u001b[38;5;124mLocation_div_tag\u001b[39m\u001b[38;5;124m'\u001b[39m],row[\u001b[38;5;124m'\u001b[39m\u001b[38;5;124mLocation_div\u001b[39m\u001b[38;5;124m'\u001b[39m]],[row[\u001b[38;5;124m'\u001b[39m\u001b[38;5;124mUrl_div_tag\u001b[39m\u001b[38;5;124m'\u001b[39m],row[\u001b[38;5;124m'\u001b[39m\u001b[38;5;124mUrl_div\u001b[39m\u001b[38;5;124m'\u001b[39m]],row[\u001b[38;5;124m'\u001b[39m\u001b[38;5;124mName\u001b[39m\u001b[38;5;124m'\u001b[39m]]\n\u001b[0;32m     10\u001b[0m \u001b[38;5;28mprint\u001b[39m(divs)\n",
      "File \u001b[1;32mc:\\Users\\theve\\OneDrive\\Desktop\\Running_Projects\\JobScout\\Data_scrabing\\dataenv\\Lib\\site-packages\\pandas\\core\\series.py:1121\u001b[0m, in \u001b[0;36mSeries.__getitem__\u001b[1;34m(self, key)\u001b[0m\n\u001b[0;32m   1118\u001b[0m     \u001b[38;5;28;01mreturn\u001b[39;00m \u001b[38;5;28mself\u001b[39m\u001b[38;5;241m.\u001b[39m_values[key]\n\u001b[0;32m   1120\u001b[0m \u001b[38;5;28;01melif\u001b[39;00m key_is_scalar:\n\u001b[1;32m-> 1121\u001b[0m     \u001b[38;5;28;01mreturn\u001b[39;00m \u001b[38;5;28;43mself\u001b[39;49m\u001b[38;5;241;43m.\u001b[39;49m\u001b[43m_get_value\u001b[49m\u001b[43m(\u001b[49m\u001b[43mkey\u001b[49m\u001b[43m)\u001b[49m\n\u001b[0;32m   1123\u001b[0m \u001b[38;5;66;03m# Convert generator to list before going through hashable part\u001b[39;00m\n\u001b[0;32m   1124\u001b[0m \u001b[38;5;66;03m# (We will iterate through the generator there to check for slices)\u001b[39;00m\n\u001b[0;32m   1125\u001b[0m \u001b[38;5;28;01mif\u001b[39;00m is_iterator(key):\n",
      "File \u001b[1;32mc:\\Users\\theve\\OneDrive\\Desktop\\Running_Projects\\JobScout\\Data_scrabing\\dataenv\\Lib\\site-packages\\pandas\\core\\series.py:1237\u001b[0m, in \u001b[0;36mSeries._get_value\u001b[1;34m(self, label, takeable)\u001b[0m\n\u001b[0;32m   1234\u001b[0m     \u001b[38;5;28;01mreturn\u001b[39;00m \u001b[38;5;28mself\u001b[39m\u001b[38;5;241m.\u001b[39m_values[label]\n\u001b[0;32m   1236\u001b[0m \u001b[38;5;66;03m# Similar to Index.get_value, but we do not fall back to positional\u001b[39;00m\n\u001b[1;32m-> 1237\u001b[0m loc \u001b[38;5;241m=\u001b[39m \u001b[38;5;28;43mself\u001b[39;49m\u001b[38;5;241;43m.\u001b[39;49m\u001b[43mindex\u001b[49m\u001b[38;5;241;43m.\u001b[39;49m\u001b[43mget_loc\u001b[49m\u001b[43m(\u001b[49m\u001b[43mlabel\u001b[49m\u001b[43m)\u001b[49m\n\u001b[0;32m   1239\u001b[0m \u001b[38;5;28;01mif\u001b[39;00m is_integer(loc):\n\u001b[0;32m   1240\u001b[0m     \u001b[38;5;28;01mreturn\u001b[39;00m \u001b[38;5;28mself\u001b[39m\u001b[38;5;241m.\u001b[39m_values[loc]\n",
      "File \u001b[1;32mc:\\Users\\theve\\OneDrive\\Desktop\\Running_Projects\\JobScout\\Data_scrabing\\dataenv\\Lib\\site-packages\\pandas\\core\\indexes\\base.py:3812\u001b[0m, in \u001b[0;36mIndex.get_loc\u001b[1;34m(self, key)\u001b[0m\n\u001b[0;32m   3807\u001b[0m     \u001b[38;5;28;01mif\u001b[39;00m \u001b[38;5;28misinstance\u001b[39m(casted_key, \u001b[38;5;28mslice\u001b[39m) \u001b[38;5;129;01mor\u001b[39;00m (\n\u001b[0;32m   3808\u001b[0m         \u001b[38;5;28misinstance\u001b[39m(casted_key, abc\u001b[38;5;241m.\u001b[39mIterable)\n\u001b[0;32m   3809\u001b[0m         \u001b[38;5;129;01mand\u001b[39;00m \u001b[38;5;28many\u001b[39m(\u001b[38;5;28misinstance\u001b[39m(x, \u001b[38;5;28mslice\u001b[39m) \u001b[38;5;28;01mfor\u001b[39;00m x \u001b[38;5;129;01min\u001b[39;00m casted_key)\n\u001b[0;32m   3810\u001b[0m     ):\n\u001b[0;32m   3811\u001b[0m         \u001b[38;5;28;01mraise\u001b[39;00m InvalidIndexError(key)\n\u001b[1;32m-> 3812\u001b[0m     \u001b[38;5;28;01mraise\u001b[39;00m \u001b[38;5;167;01mKeyError\u001b[39;00m(key) \u001b[38;5;28;01mfrom\u001b[39;00m \u001b[38;5;21;01merr\u001b[39;00m\n\u001b[0;32m   3813\u001b[0m \u001b[38;5;28;01mexcept\u001b[39;00m \u001b[38;5;167;01mTypeError\u001b[39;00m:\n\u001b[0;32m   3814\u001b[0m     \u001b[38;5;66;03m# If we have a listlike key, _check_indexing_error will raise\u001b[39;00m\n\u001b[0;32m   3815\u001b[0m     \u001b[38;5;66;03m#  InvalidIndexError. Otherwise we fall through and re-raise\u001b[39;00m\n\u001b[0;32m   3816\u001b[0m     \u001b[38;5;66;03m#  the TypeError.\u001b[39;00m\n\u001b[0;32m   3817\u001b[0m     \u001b[38;5;28mself\u001b[39m\u001b[38;5;241m.\u001b[39m_check_indexing_error(key)\n",
      "\u001b[1;31mKeyError\u001b[0m: 'Name_div_tag'"
     ]
    }
   ],
   "source": [
    "df.rename(columns={'If Dynamic_xpath': 'next'}, inplace=True)\n",
    "for ind,row in df.iterrows():\n",
    "    if ind==0:\n",
    "        print(row['Name'])\n",
    "        url=row['CareersLink']\n",
    "        print(type(row['next']))\n",
    "        out_div=[row['Outer_div'],row['next']]\n",
    "        print(out_div)\n",
    "        divs=[[row['Name_div_tag'],row['Name_div']],[row['Location_div_tag'],row['Location_div']],[row['Url_div_tag'],row['Url_div']],row['Name']]\n",
    "        print(divs)"
   ]
  },
  {
   "cell_type": "code",
   "execution_count": 16,
   "metadata": {},
   "outputs": [
    {
     "data": {
      "text/plain": [
       "'a'"
      ]
     },
     "execution_count": 16,
     "metadata": {},
     "output_type": "execute_result"
    }
   ],
   "source": [
    "divs[0][0]"
   ]
  },
  {
   "cell_type": "code",
   "execution_count": 11,
   "metadata": {},
   "outputs": [
    {
     "name": "stdout",
     "output_type": "stream",
     "text": [
      "Processing: Paytm\n",
      "[['h5', 'data-qa', 'posting-name'], ['a', 'class', 'posting-title'], ['span', 'class', 'sort-by-location posting-category small-category-label location'], 'Paytm']\n"
     ]
    }
   ],
   "source": [
    "# Load the Excel file\n",
    "df = pd.read_excel('final_input.xlsx')\n",
    "df.rename(columns={'If Dynamic_xpath': 'next'}, inplace=True)\n",
    "\n",
    "for ind, row in df.iterrows():\n",
    "    print(f\"Processing: {row['Name']}\")\n",
    "    \n",
    "    url = row['CareersLink']\n",
    "    out_div = [row['Outer_div'], row['next']]\n",
    "    \n",
    "    # Define divs structure based on Excel data\n",
    "    divs = [\n",
    "        [row['Title_tag'], row['Title_attr_key'], row['Title_attr_value']],\n",
    "        [row['Link_tag'], row['Link_attr_key'], row['Link_attr_value']],\n",
    "        [row['Location_tag'], row['Location_attr_key'], row['Location_attr_value']],\n",
    "        row['Name']\n",
    "    ]\n",
    "    print(divs)"
   ]
  },
  {
   "cell_type": "code",
   "execution_count": 8,
   "metadata": {},
   "outputs": [],
   "source": [
    "df.rename(columns={'If Dynamic_xpath': 'next'}, inplace=True)\n"
   ]
  },
  {
   "cell_type": "code",
   "execution_count": 9,
   "metadata": {},
   "outputs": [
    {
     "data": {
      "text/html": [
       "<div>\n",
       "<style scoped>\n",
       "    .dataframe tbody tr th:only-of-type {\n",
       "        vertical-align: middle;\n",
       "    }\n",
       "\n",
       "    .dataframe tbody tr th {\n",
       "        vertical-align: top;\n",
       "    }\n",
       "\n",
       "    .dataframe thead th {\n",
       "        text-align: right;\n",
       "    }\n",
       "</style>\n",
       "<table border=\"1\" class=\"dataframe\">\n",
       "  <thead>\n",
       "    <tr style=\"text-align: right;\">\n",
       "      <th></th>\n",
       "      <th>Name</th>\n",
       "      <th>CareersLink</th>\n",
       "      <th>Outer_div</th>\n",
       "      <th>Outer_div_tag</th>\n",
       "      <th>Name_div</th>\n",
       "      <th>Name_div_tag</th>\n",
       "      <th>Location_div</th>\n",
       "      <th>Location_div_tag</th>\n",
       "      <th>Url_div</th>\n",
       "      <th>Url_div_tag</th>\n",
       "      <th>Page_Type</th>\n",
       "      <th>next</th>\n",
       "    </tr>\n",
       "  </thead>\n",
       "  <tbody>\n",
       "    <tr>\n",
       "      <th>0</th>\n",
       "      <td>orient technologies</td>\n",
       "      <td>https://www.orientindia.in/all-openings</td>\n",
       "      <td>job-card-wrapper</td>\n",
       "      <td>div</td>\n",
       "      <td>title</td>\n",
       "      <td>h1</td>\n",
       "      <td>text-block-23</td>\n",
       "      <td>div</td>\n",
       "      <td>link-block-17</td>\n",
       "      <td>a</td>\n",
       "      <td>NaN</td>\n",
       "      <td>NaN</td>\n",
       "    </tr>\n",
       "    <tr>\n",
       "      <th>1</th>\n",
       "      <td>Infosys</td>\n",
       "      <td>https://career.infosys.com/joblist?countrycode...</td>\n",
       "      <td>customCard</td>\n",
       "      <td>div</td>\n",
       "      <td>mat-tooltip-trigger</td>\n",
       "      <td>span</td>\n",
       "      <td>secondaryText</td>\n",
       "      <td>span</td>\n",
       "      <td>https://career.infosys.com/joblist?countrycode...</td>\n",
       "      <td>0</td>\n",
       "      <td>NaN</td>\n",
       "      <td>pointer</td>\n",
       "    </tr>\n",
       "  </tbody>\n",
       "</table>\n",
       "</div>"
      ],
      "text/plain": [
       "                  Name                                        CareersLink  \\\n",
       "0  orient technologies            https://www.orientindia.in/all-openings   \n",
       "1              Infosys  https://career.infosys.com/joblist?countrycode...   \n",
       "\n",
       "          Outer_div Outer_div_tag             Name_div Name_div_tag  \\\n",
       "0  job-card-wrapper           div                title           h1   \n",
       "1       customCard            div  mat-tooltip-trigger         span   \n",
       "\n",
       "    Location_div Location_div_tag  \\\n",
       "0  text-block-23              div   \n",
       "1  secondaryText             span   \n",
       "\n",
       "                                             Url_div Url_div_tag Page_Type  \\\n",
       "0                                      link-block-17           a       NaN   \n",
       "1  https://career.infosys.com/joblist?countrycode...           0       NaN   \n",
       "\n",
       "      next  \n",
       "0      NaN  \n",
       "1  pointer  "
      ]
     },
     "execution_count": 9,
     "metadata": {},
     "output_type": "execute_result"
    }
   ],
   "source": [
    "df.head(2)"
   ]
  },
  {
   "cell_type": "code",
   "execution_count": null,
   "metadata": {},
   "outputs": [],
   "source": [
    "out_div=[[row['Outer_div'],row['Outer_div_tag']],row['If Dynamic_xpa']]\n",
    "divs=[[row['Name_div_tag'],roe['Name_div']],[row['Location_div_tag'],roe['Location_div']],[roe['Url_div_tag'],row['Url_div']],row['Name']]"
   ]
  },
  {
   "cell_type": "code",
   "execution_count": 7,
   "metadata": {},
   "outputs": [],
   "source": [
    "import pandas as pd\n",
    "# from scrab import WebScraper\n",
    "import os\n",
    "\n",
    "df=pd.read_excel('./companies.xlsx')\n",
    "\n",
    "\n",
    "\n",
    "\n"
   ]
  },
  {
   "cell_type": "code",
   "execution_count": 10,
   "metadata": {},
   "outputs": [
    {
     "data": {
      "text/html": [
       "<div>\n",
       "<style scoped>\n",
       "    .dataframe tbody tr th:only-of-type {\n",
       "        vertical-align: middle;\n",
       "    }\n",
       "\n",
       "    .dataframe tbody tr th {\n",
       "        vertical-align: top;\n",
       "    }\n",
       "\n",
       "    .dataframe thead th {\n",
       "        text-align: right;\n",
       "    }\n",
       "</style>\n",
       "<table border=\"1\" class=\"dataframe\">\n",
       "  <thead>\n",
       "    <tr style=\"text-align: right;\">\n",
       "      <th></th>\n",
       "      <th>Name</th>\n",
       "      <th>CareersLink</th>\n",
       "      <th>Outer_div</th>\n",
       "      <th>Outer_div_tag</th>\n",
       "      <th>Name_div</th>\n",
       "      <th>Name_div_tag</th>\n",
       "      <th>Location_div</th>\n",
       "      <th>Location_div_tag</th>\n",
       "      <th>Url_div</th>\n",
       "      <th>Url_div_tag</th>\n",
       "      <th>Page_Type</th>\n",
       "      <th>If Dynamic_xpath</th>\n",
       "    </tr>\n",
       "  </thead>\n",
       "  <tbody>\n",
       "    <tr>\n",
       "      <th>0</th>\n",
       "      <td>Google</td>\n",
       "      <td>https://www.google.com/about/careers/applicati...</td>\n",
       "      <td>sMn82b</td>\n",
       "      <td>div</td>\n",
       "      <td>QJPWVe</td>\n",
       "      <td>h3</td>\n",
       "      <td>r0wTof</td>\n",
       "      <td>span</td>\n",
       "      <td>WpHeLc</td>\n",
       "      <td>a</td>\n",
       "      <td>Dynamic</td>\n",
       "      <td>/html/body/c-wiz[1]/div/div[2]/div/div/div[2]/...</td>\n",
       "    </tr>\n",
       "  </tbody>\n",
       "</table>\n",
       "</div>"
      ],
      "text/plain": [
       "     Name                                        CareersLink Outer_div  \\\n",
       "0  Google  https://www.google.com/about/careers/applicati...    sMn82b   \n",
       "\n",
       "  Outer_div_tag Name_div Name_div_tag Location_div Location_div_tag Url_div  \\\n",
       "0           div   QJPWVe           h3       r0wTof             span  WpHeLc   \n",
       "\n",
       "  Url_div_tag Page_Type                                   If Dynamic_xpath  \n",
       "0           a   Dynamic  /html/body/c-wiz[1]/div/div[2]/div/div/div[2]/...  "
      ]
     },
     "execution_count": 10,
     "metadata": {},
     "output_type": "execute_result"
    }
   ],
   "source": [
    "df.head()"
   ]
  },
  {
   "cell_type": "code",
   "execution_count": 11,
   "metadata": {},
   "outputs": [
    {
     "name": "stdout",
     "output_type": "stream",
     "text": [
      "0 Google\n"
     ]
    }
   ],
   "source": [
    "\n",
    "for row in df.itertuples():\n",
    "    print(row.Index, row.Name)"
   ]
  },
  {
   "cell_type": "code",
   "execution_count": 5,
   "metadata": {},
   "outputs": [
    {
     "name": "stdout",
     "output_type": "stream",
     "text": [
      "Index: 0\n",
      "Name: Alice, Age: 24, City: New York\n",
      "----\n",
      "Index: 1\n",
      "Name: Bob, Age: 27, City: Los Angeles\n",
      "----\n",
      "Index: 2\n",
      "Name: Charlie, Age: 22, City: Chicago\n",
      "----\n"
     ]
    }
   ],
   "source": [
    "import pandas as pd\n",
    "\n",
    "# Example DataFrame\n",
    "df = pd.DataFrame({\n",
    "    'Name': ['Alice', 'Bob', 'Charlie'],\n",
    "    'Age': [24, 27, 22],\n",
    "    'City': ['New York', 'Los Angeles', 'Chicago']\n",
    "})\n",
    "\n",
    "# Row-wise traversal using iterrows()\n",
    "for index, row in df.iterrows():\n",
    "    print(f\"Index: {index}\")\n",
    "    print(f\"Name: {row['Name']}, Age: {row['Age']}, City: {row['City']}\")\n",
    "    print(\"----\")\n"
   ]
  },
  {
   "cell_type": "code",
   "execution_count": 5,
   "metadata": {},
   "outputs": [],
   "source": [
    "l=[1,2,3,4]\n",
    "l.extend([12])"
   ]
  },
  {
   "cell_type": "code",
   "execution_count": 6,
   "metadata": {},
   "outputs": [
    {
     "data": {
      "text/plain": [
       "[1, 2, 3, 4, 12]"
      ]
     },
     "execution_count": 6,
     "metadata": {},
     "output_type": "execute_result"
    }
   ],
   "source": [
    "l"
   ]
  },
  {
   "cell_type": "code",
   "execution_count": null,
   "metadata": {},
   "outputs": [],
   "source": []
  },
  {
   "cell_type": "code",
   "execution_count": null,
   "metadata": {},
   "outputs": [],
   "source": []
  },
  {
   "cell_type": "code",
   "execution_count": null,
   "metadata": {},
   "outputs": [],
   "source": []
  }
 ],
 "metadata": {
  "kernelspec": {
   "display_name": "base",
   "language": "python",
   "name": "python3"
  },
  "language_info": {
   "codemirror_mode": {
    "name": "ipython",
    "version": 3
   },
   "file_extension": ".py",
   "mimetype": "text/x-python",
   "name": "python",
   "nbconvert_exporter": "python",
   "pygments_lexer": "ipython3",
   "version": "3.12.7"
  }
 },
 "nbformat": 4,
 "nbformat_minor": 2
}
