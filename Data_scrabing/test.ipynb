{
 "cells": [
  {
   "cell_type": "code",
   "execution_count": 3,
   "metadata": {},
   "outputs": [],
   "source": [
    "import pandas as pd"
   ]
  },
  {
   "cell_type": "code",
   "execution_count": 5,
   "metadata": {},
   "outputs": [],
   "source": [
    "df=pd.read_excel('./companies.xlsx')"
   ]
  },
  {
   "cell_type": "code",
   "execution_count": 6,
   "metadata": {},
   "outputs": [
    {
     "data": {
      "text/html": [
       "<div>\n",
       "<style scoped>\n",
       "    .dataframe tbody tr th:only-of-type {\n",
       "        vertical-align: middle;\n",
       "    }\n",
       "\n",
       "    .dataframe tbody tr th {\n",
       "        vertical-align: top;\n",
       "    }\n",
       "\n",
       "    .dataframe thead th {\n",
       "        text-align: right;\n",
       "    }\n",
       "</style>\n",
       "<table border=\"1\" class=\"dataframe\">\n",
       "  <thead>\n",
       "    <tr style=\"text-align: right;\">\n",
       "      <th></th>\n",
       "      <th>Name</th>\n",
       "      <th>CareersLink</th>\n",
       "      <th>Outer_div</th>\n",
       "      <th>Outer_div_tag</th>\n",
       "      <th>Name_div</th>\n",
       "      <th>Name_div_tag</th>\n",
       "      <th>Location_div</th>\n",
       "      <th>Location_div_tag</th>\n",
       "      <th>Url_div</th>\n",
       "      <th>Url_div_tag</th>\n",
       "      <th>Page_Type</th>\n",
       "      <th>If Dynamic_xpath</th>\n",
       "    </tr>\n",
       "  </thead>\n",
       "  <tbody>\n",
       "    <tr>\n",
       "      <th>0</th>\n",
       "      <td>Google</td>\n",
       "      <td>https://www.google.com/about/careers/applicati...</td>\n",
       "      <td>sMn82b</td>\n",
       "      <td>div</td>\n",
       "      <td>QJPWVe</td>\n",
       "      <td>h3</td>\n",
       "      <td>r0wTof</td>\n",
       "      <td>span</td>\n",
       "      <td>WpHeLc</td>\n",
       "      <td>a</td>\n",
       "      <td>Dynamic</td>\n",
       "      <td>/html/body/c-wiz[1]/div/div[2]/div/div/div[2]/...</td>\n",
       "    </tr>\n",
       "  </tbody>\n",
       "</table>\n",
       "</div>"
      ],
      "text/plain": [
       "     Name                                        CareersLink Outer_div  \\\n",
       "0  Google  https://www.google.com/about/careers/applicati...    sMn82b   \n",
       "\n",
       "  Outer_div_tag Name_div Name_div_tag Location_div Location_div_tag Url_div  \\\n",
       "0           div   QJPWVe           h3       r0wTof             span  WpHeLc   \n",
       "\n",
       "  Url_div_tag Page_Type                                   If Dynamic_xpath  \n",
       "0           a   Dynamic  /html/body/c-wiz[1]/div/div[2]/div/div/div[2]/...  "
      ]
     },
     "execution_count": 6,
     "metadata": {},
     "output_type": "execute_result"
    }
   ],
   "source": [
    "df.head(4)"
   ]
  },
  {
   "cell_type": "code",
   "execution_count": 4,
   "metadata": {},
   "outputs": [
    {
     "data": {
      "text/plain": [
       "Index(['Name', 'CareersLink', 'Outer_div', 'Outer_div_tag', 'Name_div',\n",
       "       'Name_div_tag', 'Location_div', 'Location_div_tag', 'Url_div',\n",
       "       'Url_div_tag', 'Page_Type', 'If Dynamic_xpath'],\n",
       "      dtype='object')"
      ]
     },
     "execution_count": 4,
     "metadata": {},
     "output_type": "execute_result"
    }
   ],
   "source": [
    "df.columns"
   ]
  },
  {
   "cell_type": "code",
   "execution_count": null,
   "metadata": {},
   "outputs": [],
   "source": []
  },
  {
   "cell_type": "code",
   "execution_count": null,
   "metadata": {},
   "outputs": [],
   "source": [
    "out_div=[[row['Outer_div'],row['Outer_div_tag']],row['If Dynamic_xpa']]\n",
    "divs=[[row['Name_div_tag'],roe['Name_div']],[row['Location_div_tag'],roe['Location_div']],[roe['Url_div_tag'],row['Url_div']],row['Name']]"
   ]
  },
  {
   "cell_type": "code",
   "execution_count": 7,
   "metadata": {},
   "outputs": [],
   "source": [
    "import pandas as pd\n",
    "# from scrab import WebScraper\n",
    "import os\n",
    "\n",
    "df=pd.read_excel('./companies.xlsx')\n",
    "\n",
    "\n",
    "\n",
    "\n"
   ]
  },
  {
   "cell_type": "code",
   "execution_count": 10,
   "metadata": {},
   "outputs": [
    {
     "data": {
      "text/html": [
       "<div>\n",
       "<style scoped>\n",
       "    .dataframe tbody tr th:only-of-type {\n",
       "        vertical-align: middle;\n",
       "    }\n",
       "\n",
       "    .dataframe tbody tr th {\n",
       "        vertical-align: top;\n",
       "    }\n",
       "\n",
       "    .dataframe thead th {\n",
       "        text-align: right;\n",
       "    }\n",
       "</style>\n",
       "<table border=\"1\" class=\"dataframe\">\n",
       "  <thead>\n",
       "    <tr style=\"text-align: right;\">\n",
       "      <th></th>\n",
       "      <th>Name</th>\n",
       "      <th>CareersLink</th>\n",
       "      <th>Outer_div</th>\n",
       "      <th>Outer_div_tag</th>\n",
       "      <th>Name_div</th>\n",
       "      <th>Name_div_tag</th>\n",
       "      <th>Location_div</th>\n",
       "      <th>Location_div_tag</th>\n",
       "      <th>Url_div</th>\n",
       "      <th>Url_div_tag</th>\n",
       "      <th>Page_Type</th>\n",
       "      <th>If Dynamic_xpath</th>\n",
       "    </tr>\n",
       "  </thead>\n",
       "  <tbody>\n",
       "    <tr>\n",
       "      <th>0</th>\n",
       "      <td>Google</td>\n",
       "      <td>https://www.google.com/about/careers/applicati...</td>\n",
       "      <td>sMn82b</td>\n",
       "      <td>div</td>\n",
       "      <td>QJPWVe</td>\n",
       "      <td>h3</td>\n",
       "      <td>r0wTof</td>\n",
       "      <td>span</td>\n",
       "      <td>WpHeLc</td>\n",
       "      <td>a</td>\n",
       "      <td>Dynamic</td>\n",
       "      <td>/html/body/c-wiz[1]/div/div[2]/div/div/div[2]/...</td>\n",
       "    </tr>\n",
       "  </tbody>\n",
       "</table>\n",
       "</div>"
      ],
      "text/plain": [
       "     Name                                        CareersLink Outer_div  \\\n",
       "0  Google  https://www.google.com/about/careers/applicati...    sMn82b   \n",
       "\n",
       "  Outer_div_tag Name_div Name_div_tag Location_div Location_div_tag Url_div  \\\n",
       "0           div   QJPWVe           h3       r0wTof             span  WpHeLc   \n",
       "\n",
       "  Url_div_tag Page_Type                                   If Dynamic_xpath  \n",
       "0           a   Dynamic  /html/body/c-wiz[1]/div/div[2]/div/div/div[2]/...  "
      ]
     },
     "execution_count": 10,
     "metadata": {},
     "output_type": "execute_result"
    }
   ],
   "source": [
    "df.head()"
   ]
  },
  {
   "cell_type": "code",
   "execution_count": 11,
   "metadata": {},
   "outputs": [
    {
     "name": "stdout",
     "output_type": "stream",
     "text": [
      "0 Google\n"
     ]
    }
   ],
   "source": [
    "\n",
    "for row in df.itertuples():\n",
    "    print(row.Index, row.Name)"
   ]
  },
  {
   "cell_type": "code",
   "execution_count": 5,
   "metadata": {},
   "outputs": [
    {
     "name": "stdout",
     "output_type": "stream",
     "text": [
      "Index: 0\n",
      "Name: Alice, Age: 24, City: New York\n",
      "----\n",
      "Index: 1\n",
      "Name: Bob, Age: 27, City: Los Angeles\n",
      "----\n",
      "Index: 2\n",
      "Name: Charlie, Age: 22, City: Chicago\n",
      "----\n"
     ]
    }
   ],
   "source": [
    "import pandas as pd\n",
    "\n",
    "# Example DataFrame\n",
    "df = pd.DataFrame({\n",
    "    'Name': ['Alice', 'Bob', 'Charlie'],\n",
    "    'Age': [24, 27, 22],\n",
    "    'City': ['New York', 'Los Angeles', 'Chicago']\n",
    "})\n",
    "\n",
    "# Row-wise traversal using iterrows()\n",
    "for index, row in df.iterrows():\n",
    "    print(f\"Index: {index}\")\n",
    "    print(f\"Name: {row['Name']}, Age: {row['Age']}, City: {row['City']}\")\n",
    "    print(\"----\")\n"
   ]
  },
  {
   "cell_type": "code",
   "execution_count": null,
   "metadata": {},
   "outputs": [],
   "source": []
  },
  {
   "cell_type": "code",
   "execution_count": null,
   "metadata": {},
   "outputs": [],
   "source": []
  },
  {
   "cell_type": "code",
   "execution_count": null,
   "metadata": {},
   "outputs": [],
   "source": []
  },
  {
   "cell_type": "code",
   "execution_count": null,
   "metadata": {},
   "outputs": [],
   "source": []
  },
  {
   "cell_type": "code",
   "execution_count": null,
   "metadata": {},
   "outputs": [],
   "source": []
  }
 ],
 "metadata": {
  "kernelspec": {
   "display_name": "base",
   "language": "python",
   "name": "python3"
  },
  "language_info": {
   "codemirror_mode": {
    "name": "ipython",
    "version": 3
   },
   "file_extension": ".py",
   "mimetype": "text/x-python",
   "name": "python",
   "nbconvert_exporter": "python",
   "pygments_lexer": "ipython3",
   "version": "3.12.7"
  }
 },
 "nbformat": 4,
 "nbformat_minor": 2
}
